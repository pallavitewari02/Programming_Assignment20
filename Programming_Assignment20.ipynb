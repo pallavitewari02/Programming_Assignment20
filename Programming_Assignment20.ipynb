{
 "cells": [
  {
   "cell_type": "code",
   "execution_count": 26,
   "id": "f785a553",
   "metadata": {},
   "outputs": [],
   "source": [
    "#Q1\n",
    "new_l=[]\n",
    "def check_int(l):\n",
    "    \n",
    "    for i in l:\n",
    "        if type(i)==int:\n",
    "            new_l.append(i)\n",
    "    \n",
    "    else:\n",
    "        print(new_l)\n",
    "\n",
    "    "
   ]
  },
  {
   "cell_type": "code",
   "execution_count": 27,
   "id": "2d1e0832",
   "metadata": {},
   "outputs": [
    {
     "name": "stdout",
     "output_type": "stream",
     "text": [
      "[7, 7, 7, 8, 3, 2, 3, 1, 2, 22]\n"
     ]
    }
   ],
   "source": [
    "check_int(['gt',7,7,7,8,3,2,3,1,2,22])"
   ]
  },
  {
   "cell_type": "code",
   "execution_count": 56,
   "id": "74457dbc",
   "metadata": {},
   "outputs": [],
   "source": [
    "#Q2\n",
    "lst=[]\n",
    "def temp(l):\n",
    "    for i in range(len(l)):\n",
    "        j=i+l[i]\n",
    "        lst.append(i+l[i])\n",
    "    print(lst)"
   ]
  },
  {
   "cell_type": "code",
   "execution_count": 57,
   "id": "3c7383d0",
   "metadata": {},
   "outputs": [
    {
     "name": "stdout",
     "output_type": "stream",
     "text": [
      "[4, 6, 8]\n"
     ]
    }
   ],
   "source": [
    "temp([4,5,6])"
   ]
  },
  {
   "cell_type": "code",
   "execution_count": null,
   "id": "10cc6a9d",
   "metadata": {},
   "outputs": [],
   "source": [
    "# Q3 \n",
    "#Volume of the cone=(1/3)*pi*r*r*h where r is radius & h is height."
   ]
  },
  {
   "cell_type": "code",
   "execution_count": 70,
   "id": "d2f8eaaa",
   "metadata": {},
   "outputs": [],
   "source": [
    "import math\n",
    "def cone(r,h):\n",
    "    v=1/3*math.pi*r*r*h\n",
    "    Vol=(\"{:.2f}\".format(v))\n",
    "    print(Vol)"
   ]
  },
  {
   "cell_type": "code",
   "execution_count": 71,
   "id": "03e67e2a",
   "metadata": {},
   "outputs": [
    {
     "name": "stdout",
     "output_type": "stream",
     "text": [
      "12.57\n"
     ]
    }
   ],
   "source": [
    "cone(2,3)"
   ]
  },
  {
   "cell_type": "code",
   "execution_count": 77,
   "id": "bf96f116",
   "metadata": {},
   "outputs": [],
   "source": [
    "#Q5\n",
    "def find_num(l):\n",
    "    for i in range(1,11):\n",
    "        if i not in l:\n",
    "            print(i)\n",
    "        \n",
    "    "
   ]
  },
  {
   "cell_type": "code",
   "execution_count": 80,
   "id": "e690e85f",
   "metadata": {},
   "outputs": [
    {
     "name": "stdout",
     "output_type": "stream",
     "text": [
      "6\n"
     ]
    }
   ],
   "source": [
    "find_num([1,3,4,5,2,7,8,9,10])"
   ]
  },
  {
   "cell_type": "code",
   "execution_count": 87,
   "id": "722502cc",
   "metadata": {},
   "outputs": [],
   "source": [
    "#Q4\n",
    "def triangle(n):\n",
    "    print(\"The no. of dots with its corresponding triangle number of sequence: \", (n*(n+1)/2))\n",
    "    "
   ]
  },
  {
   "cell_type": "code",
   "execution_count": 88,
   "id": "261c6e72",
   "metadata": {},
   "outputs": [
    {
     "name": "stdout",
     "output_type": "stream",
     "text": [
      "The no. of dots with its corresponding triangle number of sequence:  15.0\n"
     ]
    }
   ],
   "source": [
    "triangle(5)"
   ]
  },
  {
   "cell_type": "code",
   "execution_count": null,
   "id": "e8701149",
   "metadata": {},
   "outputs": [],
   "source": [
    " "
   ]
  }
 ],
 "metadata": {
  "kernelspec": {
   "display_name": "Python 3 (ipykernel)",
   "language": "python",
   "name": "python3"
  },
  "language_info": {
   "codemirror_mode": {
    "name": "ipython",
    "version": 3
   },
   "file_extension": ".py",
   "mimetype": "text/x-python",
   "name": "python",
   "nbconvert_exporter": "python",
   "pygments_lexer": "ipython3",
   "version": "3.9.12"
  }
 },
 "nbformat": 4,
 "nbformat_minor": 5
}
